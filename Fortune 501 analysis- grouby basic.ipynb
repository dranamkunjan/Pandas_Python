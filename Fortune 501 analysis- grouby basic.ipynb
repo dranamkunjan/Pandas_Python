{
 "cells": [
  {
   "cell_type": "code",
   "execution_count": 1,
   "id": "723fc88a",
   "metadata": {},
   "outputs": [],
   "source": [
    "import numpy as np\n",
    "import pandas as pd"
   ]
  },
  {
   "cell_type": "markdown",
   "id": "42d242c3",
   "metadata": {},
   "source": [
    "# import csv file into notebook"
   ]
  },
  {
   "cell_type": "code",
   "execution_count": 8,
   "id": "14f27ec5",
   "metadata": {
    "scrolled": true
   },
   "outputs": [],
   "source": [
    "encoding = 'latin1'\n",
    "company=pd.read_csv('Fortune 500 Companies US.csv', encoding=encoding)\n",
    "#encountered UnicodeDecodeError. This error suggests that the file contains characters that cannot be decoded using the specified encoding."
   ]
  },
  {
   "cell_type": "code",
   "execution_count": 10,
   "id": "9ab276eb",
   "metadata": {},
   "outputs": [
    {
     "data": {
      "text/html": [
       "<div>\n",
       "<style scoped>\n",
       "    .dataframe tbody tr th:only-of-type {\n",
       "        vertical-align: middle;\n",
       "    }\n",
       "\n",
       "    .dataframe tbody tr th {\n",
       "        vertical-align: top;\n",
       "    }\n",
       "\n",
       "    .dataframe thead th {\n",
       "        text-align: right;\n",
       "    }\n",
       "</style>\n",
       "<table border=\"1\" class=\"dataframe\">\n",
       "  <thead>\n",
       "    <tr style=\"text-align: right;\">\n",
       "      <th></th>\n",
       "      <th>Rank</th>\n",
       "      <th>Company Name</th>\n",
       "      <th>Number of Employees</th>\n",
       "      <th>Previous Rank</th>\n",
       "      <th>Revenues</th>\n",
       "      <th>Revenue Change</th>\n",
       "      <th>Profits</th>\n",
       "      <th>Profit Change</th>\n",
       "      <th>Assets</th>\n",
       "      <th>Market Value</th>\n",
       "    </tr>\n",
       "  </thead>\n",
       "  <tbody>\n",
       "    <tr>\n",
       "      <th>0</th>\n",
       "      <td>1</td>\n",
       "      <td>Walmart</td>\n",
       "      <td>23,00,000</td>\n",
       "      <td>1.0</td>\n",
       "      <td>$4,85,873</td>\n",
       "      <td>0.8%</td>\n",
       "      <td>$13,643.0</td>\n",
       "      <td>-7.2%</td>\n",
       "      <td>$1,98,825</td>\n",
       "      <td>$2,18,619</td>\n",
       "    </tr>\n",
       "    <tr>\n",
       "      <th>1</th>\n",
       "      <td>2</td>\n",
       "      <td>Berkshire Hathaway</td>\n",
       "      <td>3,67,700</td>\n",
       "      <td>4.0</td>\n",
       "      <td>$2,23,604</td>\n",
       "      <td>6.1%</td>\n",
       "      <td>$24,074.0</td>\n",
       "      <td>0.0%</td>\n",
       "      <td>$6,20,854</td>\n",
       "      <td>$4,11,035</td>\n",
       "    </tr>\n",
       "    <tr>\n",
       "      <th>2</th>\n",
       "      <td>3</td>\n",
       "      <td>Apple</td>\n",
       "      <td>1,16,000</td>\n",
       "      <td>3.0</td>\n",
       "      <td>$2,15,639</td>\n",
       "      <td>-7.7%</td>\n",
       "      <td>$45,687.0</td>\n",
       "      <td>-14.4%</td>\n",
       "      <td>$3,21,686</td>\n",
       "      <td>$7,53,718</td>\n",
       "    </tr>\n",
       "    <tr>\n",
       "      <th>3</th>\n",
       "      <td>4</td>\n",
       "      <td>Exxon Mobil</td>\n",
       "      <td>72,700</td>\n",
       "      <td>2.0</td>\n",
       "      <td>$2,05,004</td>\n",
       "      <td>-16.7%</td>\n",
       "      <td>$7,840.0</td>\n",
       "      <td>-51.5%</td>\n",
       "      <td>$3,30,314</td>\n",
       "      <td>$3,40,056</td>\n",
       "    </tr>\n",
       "    <tr>\n",
       "      <th>4</th>\n",
       "      <td>5</td>\n",
       "      <td>McKesson</td>\n",
       "      <td>68,000</td>\n",
       "      <td>5.0</td>\n",
       "      <td>$1,92,487</td>\n",
       "      <td>6.2%</td>\n",
       "      <td>$2,258.0</td>\n",
       "      <td>53.0%</td>\n",
       "      <td>$56,563</td>\n",
       "      <td>$31,439</td>\n",
       "    </tr>\n",
       "  </tbody>\n",
       "</table>\n",
       "</div>"
      ],
      "text/plain": [
       "   Rank        Company Name Number of Employees  Previous Rank   Revenues  \\\n",
       "0     1             Walmart           23,00,000            1.0  $4,85,873   \n",
       "1     2  Berkshire Hathaway            3,67,700            4.0  $2,23,604   \n",
       "2     3               Apple            1,16,000            3.0  $2,15,639   \n",
       "3     4         Exxon Mobil              72,700            2.0  $2,05,004   \n",
       "4     5            McKesson              68,000            5.0  $1,92,487   \n",
       "\n",
       "  Revenue Change    Profits Profit Change     Assets Market Value  \n",
       "0           0.8%  $13,643.0         -7.2%  $1,98,825    $2,18,619  \n",
       "1           6.1%  $24,074.0          0.0%  $6,20,854    $4,11,035  \n",
       "2          -7.7%  $45,687.0        -14.4%  $3,21,686    $7,53,718  \n",
       "3         -16.7%   $7,840.0        -51.5%  $3,30,314    $3,40,056  \n",
       "4           6.2%   $2,258.0         53.0%    $56,563      $31,439  "
      ]
     },
     "execution_count": 10,
     "metadata": {},
     "output_type": "execute_result"
    }
   ],
   "source": [
    "company.head()"
   ]
  },
  {
   "cell_type": "code",
   "execution_count": 12,
   "id": "00ed1df9",
   "metadata": {},
   "outputs": [
    {
     "data": {
      "text/plain": [
       "(500, 10)"
      ]
     },
     "execution_count": 12,
     "metadata": {},
     "output_type": "execute_result"
    }
   ],
   "source": [
    "company.shape"
   ]
  },
  {
   "cell_type": "markdown",
   "id": "339d5027",
   "metadata": {},
   "source": [
    "# analysis based on group by"
   ]
  },
  {
   "cell_type": "code",
   "execution_count": 14,
   "id": "e4e57694",
   "metadata": {},
   "outputs": [
    {
     "data": {
      "text/plain": [
       "<pandas.core.groupby.generic.DataFrameGroupBy object at 0x000001C437B58C90>"
      ]
     },
     "execution_count": 14,
     "metadata": {},
     "output_type": "execute_result"
    }
   ],
   "source": [
    "company.groupby('Company Name')"
   ]
  },
  {
   "cell_type": "code",
   "execution_count": 15,
   "id": "ad385b9d",
   "metadata": {},
   "outputs": [
    {
     "data": {
      "text/plain": [
       "500"
      ]
     },
     "execution_count": 15,
     "metadata": {},
     "output_type": "execute_result"
    }
   ],
   "source": [
    "len(company)"
   ]
  },
  {
   "cell_type": "code",
   "execution_count": 16,
   "id": "c60a1223",
   "metadata": {},
   "outputs": [
    {
     "data": {
      "text/plain": [
       "<pandas.core.groupby.generic.DataFrameGroupBy object at 0x000001C4352B0C10>"
      ]
     },
     "execution_count": 16,
     "metadata": {},
     "output_type": "execute_result"
    }
   ],
   "source": [
    "company.groupby('Assets')"
   ]
  },
  {
   "cell_type": "code",
   "execution_count": 17,
   "id": "cf665d07",
   "metadata": {},
   "outputs": [],
   "source": [
    "group_by= company.groupby('Assets')"
   ]
  },
  {
   "cell_type": "code",
   "execution_count": 18,
   "id": "b599dfba",
   "metadata": {},
   "outputs": [
    {
     "data": {
      "text/plain": [
       "4"
      ]
     },
     "execution_count": 18,
     "metadata": {},
     "output_type": "execute_result"
    }
   ],
   "source": [
    "len('Rank')"
   ]
  },
  {
   "cell_type": "code",
   "execution_count": 19,
   "id": "aba38492",
   "metadata": {},
   "outputs": [
    {
     "data": {
      "text/plain": [
       "Assets\n",
       "$1,00,245    1\n",
       "$1,04,658    1\n",
       "$1,08,610    1\n",
       "$1,09,697    1\n",
       "$1,12,180    1\n",
       "            ..\n",
       "$90,207      1\n",
       "$92,033      1\n",
       "$92,308      1\n",
       "$94,462      1\n",
       "$95,377      1\n",
       "Length: 498, dtype: int64"
      ]
     },
     "execution_count": 19,
     "metadata": {},
     "output_type": "execute_result"
    }
   ],
   "source": [
    "group_by.size()"
   ]
  },
  {
   "cell_type": "code",
   "execution_count": 20,
   "id": "7bdf96c7",
   "metadata": {},
   "outputs": [
    {
     "data": {
      "text/html": [
       "<div>\n",
       "<style scoped>\n",
       "    .dataframe tbody tr th:only-of-type {\n",
       "        vertical-align: middle;\n",
       "    }\n",
       "\n",
       "    .dataframe tbody tr th {\n",
       "        vertical-align: top;\n",
       "    }\n",
       "\n",
       "    .dataframe thead th {\n",
       "        text-align: right;\n",
       "    }\n",
       "</style>\n",
       "<table border=\"1\" class=\"dataframe\">\n",
       "  <thead>\n",
       "    <tr style=\"text-align: right;\">\n",
       "      <th></th>\n",
       "      <th>Rank</th>\n",
       "      <th>Company Name</th>\n",
       "      <th>Number of Employees</th>\n",
       "      <th>Previous Rank</th>\n",
       "      <th>Revenues</th>\n",
       "      <th>Revenue Change</th>\n",
       "      <th>Profits</th>\n",
       "      <th>Profit Change</th>\n",
       "      <th>Market Value</th>\n",
       "    </tr>\n",
       "    <tr>\n",
       "      <th>Assets</th>\n",
       "      <th></th>\n",
       "      <th></th>\n",
       "      <th></th>\n",
       "      <th></th>\n",
       "      <th></th>\n",
       "      <th></th>\n",
       "      <th></th>\n",
       "      <th></th>\n",
       "      <th></th>\n",
       "    </tr>\n",
       "  </thead>\n",
       "  <tbody>\n",
       "    <tr>\n",
       "      <th>$1,00,245</th>\n",
       "      <td>99</td>\n",
       "      <td>Travelers Cos.</td>\n",
       "      <td>30,900</td>\n",
       "      <td>105.0</td>\n",
       "      <td>$27,625</td>\n",
       "      <td>3.1%</td>\n",
       "      <td>$3,014.0</td>\n",
       "      <td>-12.4%</td>\n",
       "      <td>$33,689</td>\n",
       "    </tr>\n",
       "    <tr>\n",
       "      <th>$1,04,658</th>\n",
       "      <td>329</td>\n",
       "      <td>Genworth Financial</td>\n",
       "      <td>3,400</td>\n",
       "      <td>306.0</td>\n",
       "      <td>$8,369</td>\n",
       "      <td>-9.5%</td>\n",
       "      <td>-$277.0</td>\n",
       "      <td>-</td>\n",
       "      <td>$2,056</td>\n",
       "    </tr>\n",
       "    <tr>\n",
       "      <th>$1,08,610</th>\n",
       "      <td>84</td>\n",
       "      <td>Allstate</td>\n",
       "      <td>43,275</td>\n",
       "      <td>81.0</td>\n",
       "      <td>$36,534</td>\n",
       "      <td>2.5%</td>\n",
       "      <td>$1,877.0</td>\n",
       "      <td>-13.5%</td>\n",
       "      <td>$29,754</td>\n",
       "    </tr>\n",
       "    <tr>\n",
       "      <th>$1,09,697</th>\n",
       "      <td>145</td>\n",
       "      <td>Southern</td>\n",
       "      <td>32,015</td>\n",
       "      <td>162.0</td>\n",
       "      <td>$19,896</td>\n",
       "      <td>13.8%</td>\n",
       "      <td>$2,448.0</td>\n",
       "      <td>3.4%</td>\n",
       "      <td>$49,335</td>\n",
       "    </tr>\n",
       "    <tr>\n",
       "      <th>$1,12,180</th>\n",
       "      <td>81</td>\n",
       "      <td>Oracle</td>\n",
       "      <td>1,36,000</td>\n",
       "      <td>77.0</td>\n",
       "      <td>$37,047</td>\n",
       "      <td>-3.1%</td>\n",
       "      <td>$8,901.0</td>\n",
       "      <td>-10.4%</td>\n",
       "      <td>$1,83,556</td>\n",
       "    </tr>\n",
       "    <tr>\n",
       "      <th>...</th>\n",
       "      <td>...</td>\n",
       "      <td>...</td>\n",
       "      <td>...</td>\n",
       "      <td>...</td>\n",
       "      <td>...</td>\n",
       "      <td>...</td>\n",
       "      <td>...</td>\n",
       "      <td>...</td>\n",
       "      <td>...</td>\n",
       "    </tr>\n",
       "    <tr>\n",
       "      <th>$90,207</th>\n",
       "      <td>185</td>\n",
       "      <td>Synchrony Financial</td>\n",
       "      <td>15,000</td>\n",
       "      <td>NaN</td>\n",
       "      <td>$15,122</td>\n",
       "      <td>11.0%</td>\n",
       "      <td>$2,251.0</td>\n",
       "      <td>1.7%</td>\n",
       "      <td>$27,810</td>\n",
       "    </tr>\n",
       "    <tr>\n",
       "      <th>$92,033</th>\n",
       "      <td>52</td>\n",
       "      <td>Disney</td>\n",
       "      <td>1,95,000</td>\n",
       "      <td>53.0</td>\n",
       "      <td>$55,632</td>\n",
       "      <td>6.0%</td>\n",
       "      <td>$9,391.0</td>\n",
       "      <td>12.0%</td>\n",
       "      <td>$1,79,298</td>\n",
       "    </tr>\n",
       "    <tr>\n",
       "      <th>$92,308</th>\n",
       "      <td>277</td>\n",
       "      <td>Discover Financial Services</td>\n",
       "      <td>15,549</td>\n",
       "      <td>283.0</td>\n",
       "      <td>$10,497</td>\n",
       "      <td>4.9%</td>\n",
       "      <td>$2,393.0</td>\n",
       "      <td>4.2%</td>\n",
       "      <td>$26,255</td>\n",
       "    </tr>\n",
       "    <tr>\n",
       "      <th>$94,462</th>\n",
       "      <td>7</td>\n",
       "      <td>CVS Health</td>\n",
       "      <td>2,04,000</td>\n",
       "      <td>7.0</td>\n",
       "      <td>$1,77,526</td>\n",
       "      <td>15.8%</td>\n",
       "      <td>$5,317.0</td>\n",
       "      <td>1.5%</td>\n",
       "      <td>$81,310</td>\n",
       "    </tr>\n",
       "    <tr>\n",
       "      <th>$95,377</th>\n",
       "      <td>69</td>\n",
       "      <td>Merck</td>\n",
       "      <td>68,000</td>\n",
       "      <td>72.0</td>\n",
       "      <td>$39,807</td>\n",
       "      <td>0.8%</td>\n",
       "      <td>$3,920.0</td>\n",
       "      <td>-11.8%</td>\n",
       "      <td>$1,74,454</td>\n",
       "    </tr>\n",
       "  </tbody>\n",
       "</table>\n",
       "<p>498 rows × 9 columns</p>\n",
       "</div>"
      ],
      "text/plain": [
       "           Rank                 Company Name Number of Employees  \\\n",
       "Assets                                                             \n",
       "$1,00,245    99               Travelers Cos.              30,900   \n",
       "$1,04,658   329           Genworth Financial               3,400   \n",
       "$1,08,610    84                     Allstate              43,275   \n",
       "$1,09,697   145                     Southern              32,015   \n",
       "$1,12,180    81                       Oracle            1,36,000   \n",
       "...         ...                          ...                 ...   \n",
       "$90,207     185          Synchrony Financial              15,000   \n",
       "$92,033      52                       Disney            1,95,000   \n",
       "$92,308     277  Discover Financial Services              15,549   \n",
       "$94,462       7                   CVS Health            2,04,000   \n",
       "$95,377      69                        Merck              68,000   \n",
       "\n",
       "           Previous Rank   Revenues Revenue Change   Profits Profit Change  \\\n",
       "Assets                                                                       \n",
       "$1,00,245          105.0    $27,625           3.1%  $3,014.0        -12.4%   \n",
       "$1,04,658          306.0     $8,369          -9.5%   -$277.0             -   \n",
       "$1,08,610           81.0    $36,534           2.5%  $1,877.0        -13.5%   \n",
       "$1,09,697          162.0    $19,896          13.8%  $2,448.0          3.4%   \n",
       "$1,12,180           77.0    $37,047          -3.1%  $8,901.0        -10.4%   \n",
       "...                  ...        ...            ...       ...           ...   \n",
       "$90,207              NaN    $15,122          11.0%  $2,251.0          1.7%   \n",
       "$92,033             53.0    $55,632           6.0%  $9,391.0         12.0%   \n",
       "$92,308            283.0    $10,497           4.9%  $2,393.0          4.2%   \n",
       "$94,462              7.0  $1,77,526          15.8%  $5,317.0          1.5%   \n",
       "$95,377             72.0    $39,807           0.8%  $3,920.0        -11.8%   \n",
       "\n",
       "          Market Value  \n",
       "Assets                  \n",
       "$1,00,245      $33,689  \n",
       "$1,04,658       $2,056  \n",
       "$1,08,610      $29,754  \n",
       "$1,09,697      $49,335  \n",
       "$1,12,180    $1,83,556  \n",
       "...                ...  \n",
       "$90,207        $27,810  \n",
       "$92,033      $1,79,298  \n",
       "$92,308        $26,255  \n",
       "$94,462        $81,310  \n",
       "$95,377      $1,74,454  \n",
       "\n",
       "[498 rows x 9 columns]"
      ]
     },
     "execution_count": 20,
     "metadata": {},
     "output_type": "execute_result"
    }
   ],
   "source": [
    "group_by.first()"
   ]
  },
  {
   "cell_type": "code",
   "execution_count": 23,
   "id": "8e2f4cdf",
   "metadata": {},
   "outputs": [
    {
     "data": {
      "text/plain": [
       "Index(['Rank', 'Company Name', 'Number of Employees', 'Previous Rank',\n",
       "       'Revenues', 'Revenue Change', 'Profits', 'Profit Change', 'Assets',\n",
       "       'Market Value'],\n",
       "      dtype='object')"
      ]
     },
     "execution_count": 23,
     "metadata": {},
     "output_type": "execute_result"
    }
   ],
   "source": [
    "company.columns"
   ]
  }
 ],
 "metadata": {
  "kernelspec": {
   "display_name": "Python 3 (ipykernel)",
   "language": "python",
   "name": "python3"
  },
  "language_info": {
   "codemirror_mode": {
    "name": "ipython",
    "version": 3
   },
   "file_extension": ".py",
   "mimetype": "text/x-python",
   "name": "python",
   "nbconvert_exporter": "python",
   "pygments_lexer": "ipython3",
   "version": "3.11.5"
  }
 },
 "nbformat": 4,
 "nbformat_minor": 5
}
